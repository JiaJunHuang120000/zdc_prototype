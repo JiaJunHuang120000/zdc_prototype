{
 "cells": [
  {
   "cell_type": "code",
   "execution_count": 1,
   "id": "40eaeff9-2c56-4ff5-a32d-255ff8b773a6",
   "metadata": {},
   "outputs": [
    {
     "data": {
      "text/plain": [
       "<Figure size 640x480 with 0 Axes>"
      ]
     },
     "metadata": {},
     "output_type": "display_data"
    }
   ],
   "source": [
    "import numpy as np, uproot as ur, awkward as ak, pandas as pd, uproot as ur\n",
    "import pandas as pd\n",
    "import matplotlib.pyplot as plt\n",
    "import matplotlib.colors as colors\n",
    "from scipy.interpolate import CubicSpline\n",
    "\n",
    "import mplhep as hep\n",
    "plt.figure()\n",
    "hep.style.use(\"CMS\")\n",
    "\n",
    "import uproot,glob,ROOT"
   ]
  },
  {
   "cell_type": "code",
   "execution_count": null,
   "id": "f5717606-4b0d-4b70-b953-86463822811f",
   "metadata": {},
   "outputs": [],
   "source": [
    "arrays={}\n",
    "arrays['muon']=ur.open(f\"data/muon_4GeV.edm4hep.root:events\").arrays()\n",
    "arrays['proton']=ur.open(f\"data/proton_2GeV.edm4hep.root:events\").arrays()\n",
    "arrays['positron']=ur.open(f\"data/positron_4GeV.edm4hep.root:events\").arrays()\n",
    "\n",
    "for a in arrays.values():\n",
    "    z=a['HcalFarForwardZDCHits.position.z']\n",
    "    a['HcalFarForwardZDCHits.layer']=(z-5002.756)/(5029.868-5002.756)"
   ]
  },
  {
   "cell_type": "code",
   "execution_count": null,
   "id": "708b9784-c212-4ca1-9a56-536a187f9ce3",
   "metadata": {},
   "outputs": [],
   "source": [
    "y,x,_=plt.hist(ak.flatten(arrays['muon'][\"TriggerHits.energy\"])*1000, label=f'muons',histtype='step', bins=100, range=(0, 2), density=True)\n",
    "bc=(x[1:]+x[:-1])/2\n",
    "MIP_trigger=list(bc[y==max(y)])[0]\n",
    "#plt.axvline(MIP*1000)\n",
    "\n",
    "y,x,_=plt.hist(ak.flatten(arrays['muon']['HcalFarForwardZDCHits.energy'])*1000, label=f'muons',histtype='step', bins=100, range=(0, 2), density=True)\n",
    "bc=(x[1:]+x[:-1])/2\n",
    "MIP=list(bc[y==max(y)])[0]\n",
    "#plt.axvline(MIP*1000)\n",
    "plt.legend(labels=[f'Trigger Tile, MIP={MIP_trigger*1000:.0f} keV',f'ZDC Prototype, MIP={MIP*1000:.0f} keV'])\n",
    "\n",
    "plt.ylabel(\"Normalized Counts\")\n",
    "plt.xlabel(\"hit energy [MeV]\")\n",
    "plt.title(\"Muon Energy Deposition per Cell\")"
   ]
  },
  {
   "cell_type": "code",
   "execution_count": null,
   "id": "d993b77f-a675-4991-9dda-a58b9a30b57a",
   "metadata": {},
   "outputs": [],
   "source": [
    "#trigger_cut = arrays['proton']['TriggerHits.energy'] > 0.5*MIP_trigger/1000\n",
    "trigger_cut = [True if len(cells)==2 else False for cells in (arrays['proton']['TriggerHits.energy'] > 0.5*MIP_trigger/1000)]\n",
    "y,x,_=plt.hist(ak.flatten(arrays['proton']['HcalFarForwardZDCHits.energy'][trigger_cut])*1000/MIP,histtype='step', bins=100, density=False,range=(0,10), label='Proton')\n",
    "trigger_cut = [True if len(cells)==2 else False for cells in (arrays['positron']['TriggerHits.energy'] > 0.5*MIP_trigger/1000)]\n",
    "y,x,_=plt.hist(ak.flatten(arrays['positron']['HcalFarForwardZDCHits.energy'][trigger_cut])*1000/MIP,histtype='step', bins=100, density=False,range=(0,10), label='Positron')\n",
    "plt.ylabel(\"Counts\")\n",
    "plt.xlabel(\"Hit Energy per Cell [MIP]\")\n",
    "plt.yscale('log')\n",
    "plt.legend()\n",
    "plt.title('Cut: Both Trigger Tile > 0.5 MIP')"
   ]
  },
  {
   "cell_type": "code",
   "execution_count": null,
   "id": "f68263c6-2ab4-4593-b2c5-09cd62018229",
   "metadata": {},
   "outputs": [],
   "source": [
    "trigger_cut = [True if len(cells)==2 else False for cells in (arrays['proton']['TriggerHits.energy'] > 0.5*MIP_trigger/1000)]\n",
    "cut = arrays['proton']['HcalFarForwardZDCHits.energy'][trigger_cut]>0.5*MIP/1000\n",
    "b = np.sum(arrays['proton']['HcalFarForwardZDCHits.energy'][trigger_cut][cut], axis=-1)*1000/MIP\n",
    "plt.hist(b,histtype='step', bins=100,density=False,label='Proton')\n",
    "\n",
    "trigger_cut = [True if len(cells)==2 else False for cells in (arrays['positron']['TriggerHits.energy'] > 0.5*MIP_trigger/1000)]\n",
    "cut = arrays['positron']['HcalFarForwardZDCHits.energy'][trigger_cut]>0.5*MIP/1000\n",
    "b = np.sum(arrays['positron']['HcalFarForwardZDCHits.energy'][trigger_cut][cut], axis=-1)*1000/MIP\n",
    "plt.hist(b,histtype='step', bins=100,density=False,label='Positron')\n",
    "\n",
    "\n",
    "plt.ylabel(\"Counts\")\n",
    "plt.xlabel(\"Energy per Event [MIP]\")\n",
    "plt.yscale('log')\n",
    "plt.legend()\n",
    "plt.title('Cut: Both Trigger Tile > 0.5 MIP; Cell Hits > 0.5 MIP')"
   ]
  },
  {
   "cell_type": "code",
   "execution_count": null,
   "id": "3e9b0746-3137-42c4-9258-a26f5770475d",
   "metadata": {},
   "outputs": [],
   "source": [
    "layers = []\n",
    "layers_zero = []\n",
    "trigger_cut_proton = [True if len(cells)==2 else False for cells in (arrays['proton']['TriggerHits.energy'] > 0.5*MIP_trigger/1000)]\n",
    "trigger_cut_positron = [True if len(cells)==2 else False for cells in (arrays['positron']['TriggerHits.energy'] > 0.5*MIP_trigger/1000)]\n",
    "\n",
    "fig, ax = plt.subplots(12,5,figsize=(35,70),sharex=True,sharey=True)\n",
    "plt.subplots_adjust(wspace=0, hspace=0)\n",
    "for i in range(60):\n",
    "    plt.sca(ax[i//5,i%5])\n",
    "    cut = (np.abs(arrays['proton']['HcalFarForwardZDCHits.layer'][trigger_cut_proton]-i)<0.1)&(arrays['proton']['HcalFarForwardZDCHits.energy'][trigger_cut_proton]>0.5*MIP/1000)\n",
    "    b = np.sum(arrays['proton']['HcalFarForwardZDCHits.energy'][trigger_cut_proton][cut], axis=-1)*1000/MIP\n",
    "    mean = np.mean(b[b>0])\n",
    "    layers_zero.append(np.mean(b))\n",
    "    layers.append(mean)\n",
    "    plt.hist(b, label=f'Layer {i}: Proton',histtype='step',bins=100, density=False,range=(0,20))\n",
    "\n",
    "    cut = (np.abs(arrays['positron']['HcalFarForwardZDCHits.layer'][trigger_cut_positron]-i)<0.1)&(arrays['positron']['HcalFarForwardZDCHits.energy'][trigger_cut_positron]>0.5*MIP/1000)\n",
    "    b = np.sum(arrays['positron']['HcalFarForwardZDCHits.energy'][trigger_cut_positron][cut], axis=-1)*1000/MIP\n",
    "    mean = np.mean(b[b>0])\n",
    "    layers_zero.append(np.mean(b))\n",
    "    layers.append(mean)\n",
    "    plt.hist(b, label=f'Layer {i}: Positron',histtype='step',bins=100, density=False,range=(0,20))\n",
    "\n",
    "    plt.yscale('log')\n",
    "    plt.legend()\n",
    "    plt.ylim(0.1,1e4)\n",
    "\n",
    "ax[0, 0].set_ylabel('Counts', fontsize=35, labelpad=20)\n",
    "ax[-1, -1].set_xlabel('Energy per Layer (MIP)', fontsize=35, labelpad=20)\n",
    "plt.show()"
   ]
  },
  {
   "cell_type": "code",
   "execution_count": null,
   "id": "c7a6bc03-796d-4a1b-ad18-a00a87b9f107",
   "metadata": {},
   "outputs": [],
   "source": [
    "plt.scatter(np.linspace(0,59,60),layers_zero[::2],label='Proton')\n",
    "plt.scatter(np.linspace(0,59,60),layers_zero[1::2],label='Positron')\n",
    "\n",
    "#plt.xlim(0,30)\n",
    "plt.xlabel('Layer #')\n",
    "plt.ylabel('Mean Energy per Layer (MIP)')\n",
    "plt.legend()"
   ]
  },
  {
   "cell_type": "code",
   "execution_count": null,
   "id": "3c658096-2745-45e5-81c9-e43268d3eb50",
   "metadata": {},
   "outputs": [],
   "source": [
    "from mpl_toolkits.mplot3d import Axes3D\n",
    "from mpl_toolkits.mplot3d.art3d import Poly3DCollection\n",
    "\n",
    "fig = plt.figure()\n",
    "ax = fig.add_subplot(111, projection='3d')\n",
    "\n",
    "#for i in range(10):\n",
    "    #cut = (np.abs(arrays['muon']['HcalFarForwardZDCHits.layer'][i+100]%2)>0.1)\n",
    "x = ak.flatten(arrays['muon']['HcalFarForwardZDCHits.position.x'][:1000])\n",
    "y = ak.flatten(arrays['muon']['HcalFarForwardZDCHits.position.y'][:1000])\n",
    "z = ak.flatten(arrays['muon']['HcalFarForwardZDCHits.position.z'][:1000])\n",
    "energy = ak.flatten(arrays['muon']['HcalFarForwardZDCHits.energy'][:1000])\n",
    "\n",
    "scatter = ax.scatter(x, y, z, c=energy/MIP*1000, cmap='viridis', marker='o')\n",
    "cbar = fig.colorbar(scatter, ax=ax, shrink=0.5, aspect=5)\n",
    "cbar.set_label('Energy per Hit (MIP)')\n",
    "\n",
    "ax.set_xlabel('X (mm)')\n",
    "ax.set_ylabel('Y (mm)')\n",
    "ax.set_zlabel('Z (mm)')\n",
    "\n",
    "ax.set_xlim(-150,150)\n",
    "ax.set_ylim(-150,150)\n",
    "ax.set_zlim(4900,6750)\n",
    "\n",
    "ax.set_title(f'Hits per Events: {i}')\n",
    "#ax.view_init(elev=120)\n",
    "\n",
    "plt.show()"
   ]
  }
 ],
 "metadata": {
  "kernelspec": {
   "display_name": "Python 3 (ipykernel)",
   "language": "python",
   "name": "python3"
  },
  "language_info": {
   "codemirror_mode": {
    "name": "ipython",
    "version": 3
   },
   "file_extension": ".py",
   "mimetype": "text/x-python",
   "name": "python",
   "nbconvert_exporter": "python",
   "pygments_lexer": "ipython3",
   "version": "3.12.5"
  }
 },
 "nbformat": 4,
 "nbformat_minor": 5
}
